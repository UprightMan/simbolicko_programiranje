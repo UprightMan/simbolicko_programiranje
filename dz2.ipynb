{
 "metadata": {
  "language_info": {
   "codemirror_mode": {
    "name": "ipython",
    "version": 3
   },
   "file_extension": ".py",
   "mimetype": "text/x-python",
   "name": "python",
   "nbconvert_exporter": "python",
   "pygments_lexer": "ipython3",
   "version": "3.8.6"
  },
  "orig_nbformat": 2,
  "kernelspec": {
   "name": "python386jvsc74a57bd0e09769776f9f521120ec72634855ca3274247962fb9dade00b6a50017259ae8c",
   "display_name": "Python 3.8.6 64-bit"
  },
  "metadata": {
   "interpreter": {
    "hash": "e09769776f9f521120ec72634855ca3274247962fb9dade00b6a50017259ae8c"
   }
  }
 },
 "nbformat": 4,
 "nbformat_minor": 2,
 "cells": [
  {
   "cell_type": "code",
   "execution_count": 2,
   "metadata": {},
   "outputs": [],
   "source": [
    "import sympy as sym\n",
    "from sympy.sets import Reals"
   ]
  },
  {
   "cell_type": "code",
   "execution_count": 3,
   "metadata": {},
   "outputs": [
    {
     "output_type": "execute_result",
     "data": {
      "text/plain": [
       "0"
      ],
      "text/latex": "$\\displaystyle 0$"
     },
     "metadata": {},
     "execution_count": 3
    }
   ],
   "source": [
    "sym.limit(1/((sym.Symbol('x') ** 2) * sym.sinh(1/sym.Symbol('x'))), sym.Symbol('x'), 0)"
   ]
  },
  {
   "cell_type": "code",
   "execution_count": 4,
   "metadata": {},
   "outputs": [
    {
     "output_type": "execute_result",
     "data": {
      "text/plain": [
       "1/(x**2*sinh(1/x)**2)"
      ],
      "text/latex": "$\\displaystyle \\frac{1}{x^{2} \\sinh^{2}{\\left(\\frac{1}{x} \\right)}}$"
     },
     "metadata": {},
     "execution_count": 4
    }
   ],
   "source": [
    "1/((sym.Symbol('x') ** 2) * sym.sinh(1/sym.Symbol('x'))**2)"
   ]
  },
  {
   "cell_type": "code",
   "execution_count": 5,
   "metadata": {},
   "outputs": [],
   "source": [
    "a = sym.integrate(1/((sym.Symbol('x') ** 2) * sym.sinh(1/sym.Symbol('x'))**2), (sym.Symbol('x'), -sym.Symbol('y'), sym.Symbol('y')))"
   ]
  },
  {
   "cell_type": "code",
   "execution_count": 6,
   "metadata": {},
   "outputs": [
    {
     "output_type": "execute_result",
     "data": {
      "text/plain": [
       "2"
      ],
      "text/latex": "$\\displaystyle 2$"
     },
     "metadata": {},
     "execution_count": 6
    }
   ],
   "source": [
    "sym.limit(a, sym.Symbol('y'), 0)"
   ]
  },
  {
   "cell_type": "code",
   "execution_count": 7,
   "metadata": {},
   "outputs": [],
   "source": [
    "b = sym.integrate(sym.exp(sym.cos(sym.Symbol('y'))), (sym.Symbol('y'), 0, sym.Symbol('x')))"
   ]
  },
  {
   "cell_type": "code",
   "execution_count": 8,
   "metadata": {},
   "outputs": [],
   "source": [
    "c = sym.integrate(sym.exp(sym.sin(sym.Symbol('y'))), (sym.Symbol('y'), 0, sym.Symbol('x')))"
   ]
  },
  {
   "cell_type": "code",
   "execution_count": null,
   "metadata": {},
   "outputs": [],
   "source": [
    "x = "
   ]
  }
 ]
}