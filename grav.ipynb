{
 "metadata": {
  "language_info": {
   "codemirror_mode": {
    "name": "ipython",
    "version": 3
   },
   "file_extension": ".py",
   "mimetype": "text/x-python",
   "name": "python",
   "nbconvert_exporter": "python",
   "pygments_lexer": "ipython3",
   "version": "3.8.6"
  },
  "orig_nbformat": 2,
  "kernelspec": {
   "name": "python386jvsc74a57bd0e09769776f9f521120ec72634855ca3274247962fb9dade00b6a50017259ae8c",
   "display_name": "Python 3.8.6 64-bit"
  },
  "metadata": {
   "interpreter": {
    "hash": "e09769776f9f521120ec72634855ca3274247962fb9dade00b6a50017259ae8c"
   }
  }
 },
 "nbformat": 4,
 "nbformat_minor": 2,
 "cells": [
  {
   "cell_type": "code",
   "execution_count": 2,
   "metadata": {},
   "outputs": [],
   "source": [
    "from math import sin"
   ]
  },
  {
   "cell_type": "code",
   "execution_count": 11,
   "metadata": {},
   "outputs": [],
   "source": [
    "def fun(a, r0, v, T, N):\n",
    "    points = []\n",
    "    x_points = []\n",
    "    points.append(r0)\n",
    "    x_points.append(0)\n",
    "    for n in N:\n",
    "        x = sin((T/N)*n)\n",
    "        r = ((x + r0[0])**2 + (0 + r0[1]))**1/2\n",
    "        r0[0] = (-a * (r0[0])/(r)**3)) * T/N + v\n",
    "        r0[1] = (-a * ((r0[1])/(r)**3)) * T/N + v\n",
    "        points.append(r0)\n",
    "        x_points.append(x)\n",
    "    return points, x_points"
   ]
  },
  {
   "cell_type": "code",
   "execution_count": null,
   "metadata": {},
   "outputs": [],
   "source": [
    "fun(1, (0, 0), 5)"
   ]
  }
 ]
}