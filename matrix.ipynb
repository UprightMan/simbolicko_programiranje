{
 "metadata": {
  "language_info": {
   "codemirror_mode": {
    "name": "ipython",
    "version": 3
   },
   "file_extension": ".py",
   "mimetype": "text/x-python",
   "name": "python",
   "nbconvert_exporter": "python",
   "pygments_lexer": "ipython3",
   "version": "3.8.6"
  },
  "orig_nbformat": 2,
  "kernelspec": {
   "name": "python386jvsc74a57bd0e09769776f9f521120ec72634855ca3274247962fb9dade00b6a50017259ae8c",
   "display_name": "Python 3.8.6 64-bit"
  },
  "metadata": {
   "interpreter": {
    "hash": "e09769776f9f521120ec72634855ca3274247962fb9dade00b6a50017259ae8c"
   }
  }
 },
 "nbformat": 4,
 "nbformat_minor": 2,
 "cells": [
  {
   "cell_type": "code",
   "execution_count": 1,
   "metadata": {},
   "outputs": [],
   "source": [
    "from sympy import *"
   ]
  },
  {
   "cell_type": "code",
   "execution_count": 101,
   "metadata": {},
   "outputs": [],
   "source": [
    "def f(x, y):\n",
    "    x += 1\n",
    "    y += 1\n",
    "    if x >= y:\n",
    "        return root(log(y, Symbol('p')), Symbol('p'))\n",
    "    elif y > x:\n",
    "        return root(log(x, Symbol('p')), Symbol('p'))"
   ]
  },
  {
   "cell_type": "code",
   "execution_count": 114,
   "metadata": {},
   "outputs": [],
   "source": [
    "def fun(n):\n",
    "    M = Matrix(n, n, f)\n",
    "    M = M ** n\n",
    "    simplify(M)\n",
    "    return M"
   ]
  },
  {
   "cell_type": "code",
   "execution_count": 115,
   "metadata": {},
   "outputs": [
    {
     "output_type": "execute_result",
     "data": {
      "text/plain": [
       "Matrix([\n",
       "[                                                                                                          3*0**(1/p)*(log(2)/log(p))**(1/p) + 0**(1/p)*(log(3)/log(p))**(1/p) + 5*0**(1/p),                             0**(1/p)*(0**(1/p) + 2*(log(2)/log(p))**(2/p)) + 0**(1/p)*(2*0**(1/p)*(log(2)/log(p))**(1/p) + 0**(1/p)) + 0**(1/p)*(0**(1/p) + (log(2)/log(p))**(2/p) + (log(2)/log(p))**(1/p)*(log(3)/log(p))**(1/p)),                             0**(1/p)*(0**(1/p) + (log(2)/log(p))**(2/p) + (log(2)/log(p))**(1/p)*(log(3)/log(p))**(1/p)) + 0**(1/p)*(0**(1/p) + (log(2)/log(p))**(2/p) + (log(3)/log(p))**(2/p)) + 0**(1/p)*(0**(1/p)*(log(2)/log(p))**(1/p) + 0**(1/p)*(log(3)/log(p))**(1/p) + 0**(1/p))],\n",
       "[3*0**(1/p) + (log(2)/log(p))**(1/p)*(2*0**(1/p)*(log(2)/log(p))**(1/p) + 0**(1/p)) + (log(2)/log(p))**(1/p)*(0**(1/p)*(log(2)/log(p))**(1/p) + 0**(1/p)*(log(3)/log(p))**(1/p) + 0**(1/p)),                                                                                                             4*0**(1/p)*(log(2)/log(p))**(1/p) + 0**(1/p) + 3*(log(2)/log(p))**(3/p) + (log(2)/log(p))**(2/p)*(log(3)/log(p))**(1/p), 0**(1/p)*(0**(1/p)*(log(2)/log(p))**(1/p) + 0**(1/p)*(log(3)/log(p))**(1/p) + 0**(1/p)) + (log(2)/log(p))**(1/p)*(0**(1/p) + (log(2)/log(p))**(2/p) + (log(2)/log(p))**(1/p)*(log(3)/log(p))**(1/p)) + (log(2)/log(p))**(1/p)*(0**(1/p) + (log(2)/log(p))**(2/p) + (log(3)/log(p))**(2/p))],\n",
       "[3*0**(1/p) + (log(2)/log(p))**(1/p)*(2*0**(1/p)*(log(2)/log(p))**(1/p) + 0**(1/p)) + (log(3)/log(p))**(1/p)*(0**(1/p)*(log(2)/log(p))**(1/p) + 0**(1/p)*(log(3)/log(p))**(1/p) + 0**(1/p)), 0**(1/p)*(2*0**(1/p)*(log(2)/log(p))**(1/p) + 0**(1/p)) + (log(2)/log(p))**(1/p)*(0**(1/p) + 2*(log(2)/log(p))**(2/p)) + (log(3)/log(p))**(1/p)*(0**(1/p) + (log(2)/log(p))**(2/p) + (log(2)/log(p))**(1/p)*(log(3)/log(p))**(1/p)), 0**(1/p)*(0**(1/p)*(log(2)/log(p))**(1/p) + 0**(1/p)*(log(3)/log(p))**(1/p) + 0**(1/p)) + (log(2)/log(p))**(1/p)*(0**(1/p) + (log(2)/log(p))**(2/p) + (log(2)/log(p))**(1/p)*(log(3)/log(p))**(1/p)) + (log(3)/log(p))**(1/p)*(0**(1/p) + (log(2)/log(p))**(2/p) + (log(3)/log(p))**(2/p))]])"
      ],
      "text/latex": "$\\displaystyle \\left[\\begin{matrix}3 \\cdot 0^{\\frac{1}{p}} \\left(\\frac{\\log{\\left(2 \\right)}}{\\log{\\left(p \\right)}}\\right)^{\\frac{1}{p}} + 0^{\\frac{1}{p}} \\left(\\frac{\\log{\\left(3 \\right)}}{\\log{\\left(p \\right)}}\\right)^{\\frac{1}{p}} + 5 \\cdot 0^{\\frac{1}{p}} & 0^{\\frac{1}{p}} \\left(0^{\\frac{1}{p}} + 2 \\left(\\frac{\\log{\\left(2 \\right)}}{\\log{\\left(p \\right)}}\\right)^{\\frac{2}{p}}\\right) + 0^{\\frac{1}{p}} \\left(2 \\cdot 0^{\\frac{1}{p}} \\left(\\frac{\\log{\\left(2 \\right)}}{\\log{\\left(p \\right)}}\\right)^{\\frac{1}{p}} + 0^{\\frac{1}{p}}\\right) + 0^{\\frac{1}{p}} \\left(0^{\\frac{1}{p}} + \\left(\\frac{\\log{\\left(2 \\right)}}{\\log{\\left(p \\right)}}\\right)^{\\frac{2}{p}} + \\left(\\frac{\\log{\\left(2 \\right)}}{\\log{\\left(p \\right)}}\\right)^{\\frac{1}{p}} \\left(\\frac{\\log{\\left(3 \\right)}}{\\log{\\left(p \\right)}}\\right)^{\\frac{1}{p}}\\right) & 0^{\\frac{1}{p}} \\left(0^{\\frac{1}{p}} + \\left(\\frac{\\log{\\left(2 \\right)}}{\\log{\\left(p \\right)}}\\right)^{\\frac{2}{p}} + \\left(\\frac{\\log{\\left(2 \\right)}}{\\log{\\left(p \\right)}}\\right)^{\\frac{1}{p}} \\left(\\frac{\\log{\\left(3 \\right)}}{\\log{\\left(p \\right)}}\\right)^{\\frac{1}{p}}\\right) + 0^{\\frac{1}{p}} \\left(0^{\\frac{1}{p}} + \\left(\\frac{\\log{\\left(2 \\right)}}{\\log{\\left(p \\right)}}\\right)^{\\frac{2}{p}} + \\left(\\frac{\\log{\\left(3 \\right)}}{\\log{\\left(p \\right)}}\\right)^{\\frac{2}{p}}\\right) + 0^{\\frac{1}{p}} \\left(0^{\\frac{1}{p}} \\left(\\frac{\\log{\\left(2 \\right)}}{\\log{\\left(p \\right)}}\\right)^{\\frac{1}{p}} + 0^{\\frac{1}{p}} \\left(\\frac{\\log{\\left(3 \\right)}}{\\log{\\left(p \\right)}}\\right)^{\\frac{1}{p}} + 0^{\\frac{1}{p}}\\right)\\\\3 \\cdot 0^{\\frac{1}{p}} + \\left(\\frac{\\log{\\left(2 \\right)}}{\\log{\\left(p \\right)}}\\right)^{\\frac{1}{p}} \\left(2 \\cdot 0^{\\frac{1}{p}} \\left(\\frac{\\log{\\left(2 \\right)}}{\\log{\\left(p \\right)}}\\right)^{\\frac{1}{p}} + 0^{\\frac{1}{p}}\\right) + \\left(\\frac{\\log{\\left(2 \\right)}}{\\log{\\left(p \\right)}}\\right)^{\\frac{1}{p}} \\left(0^{\\frac{1}{p}} \\left(\\frac{\\log{\\left(2 \\right)}}{\\log{\\left(p \\right)}}\\right)^{\\frac{1}{p}} + 0^{\\frac{1}{p}} \\left(\\frac{\\log{\\left(3 \\right)}}{\\log{\\left(p \\right)}}\\right)^{\\frac{1}{p}} + 0^{\\frac{1}{p}}\\right) & 4 \\cdot 0^{\\frac{1}{p}} \\left(\\frac{\\log{\\left(2 \\right)}}{\\log{\\left(p \\right)}}\\right)^{\\frac{1}{p}} + 0^{\\frac{1}{p}} + 3 \\left(\\frac{\\log{\\left(2 \\right)}}{\\log{\\left(p \\right)}}\\right)^{\\frac{3}{p}} + \\left(\\frac{\\log{\\left(2 \\right)}}{\\log{\\left(p \\right)}}\\right)^{\\frac{2}{p}} \\left(\\frac{\\log{\\left(3 \\right)}}{\\log{\\left(p \\right)}}\\right)^{\\frac{1}{p}} & 0^{\\frac{1}{p}} \\left(0^{\\frac{1}{p}} \\left(\\frac{\\log{\\left(2 \\right)}}{\\log{\\left(p \\right)}}\\right)^{\\frac{1}{p}} + 0^{\\frac{1}{p}} \\left(\\frac{\\log{\\left(3 \\right)}}{\\log{\\left(p \\right)}}\\right)^{\\frac{1}{p}} + 0^{\\frac{1}{p}}\\right) + \\left(\\frac{\\log{\\left(2 \\right)}}{\\log{\\left(p \\right)}}\\right)^{\\frac{1}{p}} \\left(0^{\\frac{1}{p}} + \\left(\\frac{\\log{\\left(2 \\right)}}{\\log{\\left(p \\right)}}\\right)^{\\frac{2}{p}} + \\left(\\frac{\\log{\\left(2 \\right)}}{\\log{\\left(p \\right)}}\\right)^{\\frac{1}{p}} \\left(\\frac{\\log{\\left(3 \\right)}}{\\log{\\left(p \\right)}}\\right)^{\\frac{1}{p}}\\right) + \\left(\\frac{\\log{\\left(2 \\right)}}{\\log{\\left(p \\right)}}\\right)^{\\frac{1}{p}} \\left(0^{\\frac{1}{p}} + \\left(\\frac{\\log{\\left(2 \\right)}}{\\log{\\left(p \\right)}}\\right)^{\\frac{2}{p}} + \\left(\\frac{\\log{\\left(3 \\right)}}{\\log{\\left(p \\right)}}\\right)^{\\frac{2}{p}}\\right)\\\\3 \\cdot 0^{\\frac{1}{p}} + \\left(\\frac{\\log{\\left(2 \\right)}}{\\log{\\left(p \\right)}}\\right)^{\\frac{1}{p}} \\left(2 \\cdot 0^{\\frac{1}{p}} \\left(\\frac{\\log{\\left(2 \\right)}}{\\log{\\left(p \\right)}}\\right)^{\\frac{1}{p}} + 0^{\\frac{1}{p}}\\right) + \\left(\\frac{\\log{\\left(3 \\right)}}{\\log{\\left(p \\right)}}\\right)^{\\frac{1}{p}} \\left(0^{\\frac{1}{p}} \\left(\\frac{\\log{\\left(2 \\right)}}{\\log{\\left(p \\right)}}\\right)^{\\frac{1}{p}} + 0^{\\frac{1}{p}} \\left(\\frac{\\log{\\left(3 \\right)}}{\\log{\\left(p \\right)}}\\right)^{\\frac{1}{p}} + 0^{\\frac{1}{p}}\\right) & 0^{\\frac{1}{p}} \\left(2 \\cdot 0^{\\frac{1}{p}} \\left(\\frac{\\log{\\left(2 \\right)}}{\\log{\\left(p \\right)}}\\right)^{\\frac{1}{p}} + 0^{\\frac{1}{p}}\\right) + \\left(\\frac{\\log{\\left(2 \\right)}}{\\log{\\left(p \\right)}}\\right)^{\\frac{1}{p}} \\left(0^{\\frac{1}{p}} + 2 \\left(\\frac{\\log{\\left(2 \\right)}}{\\log{\\left(p \\right)}}\\right)^{\\frac{2}{p}}\\right) + \\left(\\frac{\\log{\\left(3 \\right)}}{\\log{\\left(p \\right)}}\\right)^{\\frac{1}{p}} \\left(0^{\\frac{1}{p}} + \\left(\\frac{\\log{\\left(2 \\right)}}{\\log{\\left(p \\right)}}\\right)^{\\frac{2}{p}} + \\left(\\frac{\\log{\\left(2 \\right)}}{\\log{\\left(p \\right)}}\\right)^{\\frac{1}{p}} \\left(\\frac{\\log{\\left(3 \\right)}}{\\log{\\left(p \\right)}}\\right)^{\\frac{1}{p}}\\right) & 0^{\\frac{1}{p}} \\left(0^{\\frac{1}{p}} \\left(\\frac{\\log{\\left(2 \\right)}}{\\log{\\left(p \\right)}}\\right)^{\\frac{1}{p}} + 0^{\\frac{1}{p}} \\left(\\frac{\\log{\\left(3 \\right)}}{\\log{\\left(p \\right)}}\\right)^{\\frac{1}{p}} + 0^{\\frac{1}{p}}\\right) + \\left(\\frac{\\log{\\left(2 \\right)}}{\\log{\\left(p \\right)}}\\right)^{\\frac{1}{p}} \\left(0^{\\frac{1}{p}} + \\left(\\frac{\\log{\\left(2 \\right)}}{\\log{\\left(p \\right)}}\\right)^{\\frac{2}{p}} + \\left(\\frac{\\log{\\left(2 \\right)}}{\\log{\\left(p \\right)}}\\right)^{\\frac{1}{p}} \\left(\\frac{\\log{\\left(3 \\right)}}{\\log{\\left(p \\right)}}\\right)^{\\frac{1}{p}}\\right) + \\left(\\frac{\\log{\\left(3 \\right)}}{\\log{\\left(p \\right)}}\\right)^{\\frac{1}{p}} \\left(0^{\\frac{1}{p}} + \\left(\\frac{\\log{\\left(2 \\right)}}{\\log{\\left(p \\right)}}\\right)^{\\frac{2}{p}} + \\left(\\frac{\\log{\\left(3 \\right)}}{\\log{\\left(p \\right)}}\\right)^{\\frac{2}{p}}\\right)\\end{matrix}\\right]$"
     },
     "metadata": {},
     "execution_count": 115
    }
   ],
   "source": [
    "fun(3)"
   ]
  },
  {
   "cell_type": "code",
   "execution_count": 223,
   "metadata": {},
   "outputs": [],
   "source": [
    "def fun(n):\n",
    "    tr = 0\n",
    "    p = Symbol('p', real=True, positive = True)\n",
    "    for i in range(1, n+1):\n",
    "        tr += root(log(i, p), p)\n",
    "    return tr"
   ]
  },
  {
   "cell_type": "code",
   "execution_count": 224,
   "metadata": {},
   "outputs": [
    {
     "output_type": "error",
     "ename": "NotImplementedError",
     "evalue": "Unable to find critical points for (log(2)/log(p))**(1/p) + (log(3)/log(p))**(1/p) + (log(4)/log(p))**(1/p) + (log(5)/log(p))**(1/p)",
     "traceback": [
      "\u001b[1;31m---------------------------------------------------------------------------\u001b[0m",
      "\u001b[1;31mNotImplementedError\u001b[0m                       Traceback (most recent call last)",
      "\u001b[1;32m<ipython-input-224-1d59ec235795>\u001b[0m in \u001b[0;36m<module>\u001b[1;34m\u001b[0m\n\u001b[1;32m----> 1\u001b[1;33m \u001b[0mminimum\u001b[0m\u001b[1;33m(\u001b[0m\u001b[0mfun\u001b[0m\u001b[1;33m(\u001b[0m\u001b[1;36m5\u001b[0m\u001b[1;33m)\u001b[0m\u001b[1;33m,\u001b[0m \u001b[0mSymbol\u001b[0m\u001b[1;33m(\u001b[0m\u001b[1;34m'p'\u001b[0m\u001b[1;33m,\u001b[0m \u001b[0mreal\u001b[0m \u001b[1;33m=\u001b[0m \u001b[1;32mTrue\u001b[0m\u001b[1;33m,\u001b[0m \u001b[0mpositive\u001b[0m \u001b[1;33m=\u001b[0m \u001b[1;32mTrue\u001b[0m\u001b[1;33m)\u001b[0m\u001b[1;33m)\u001b[0m\u001b[1;33m\u001b[0m\u001b[1;33m\u001b[0m\u001b[0m\n\u001b[0m",
      "\u001b[1;32mJ:\\Python\\Python38\\lib\\site-packages\\sympy\\calculus\\util.py\u001b[0m in \u001b[0;36mminimum\u001b[1;34m(f, symbol, domain)\u001b[0m\n\u001b[0;32m    843\u001b[0m             \u001b[1;32mraise\u001b[0m \u001b[0mValueError\u001b[0m\u001b[1;33m(\u001b[0m\u001b[1;34m\"Minimum value not defined for empty domain.\"\u001b[0m\u001b[1;33m)\u001b[0m\u001b[1;33m\u001b[0m\u001b[1;33m\u001b[0m\u001b[0m\n\u001b[0;32m    844\u001b[0m \u001b[1;33m\u001b[0m\u001b[0m\n\u001b[1;32m--> 845\u001b[1;33m         \u001b[1;32mreturn\u001b[0m \u001b[0mfunction_range\u001b[0m\u001b[1;33m(\u001b[0m\u001b[0mf\u001b[0m\u001b[1;33m,\u001b[0m \u001b[0msymbol\u001b[0m\u001b[1;33m,\u001b[0m \u001b[0mdomain\u001b[0m\u001b[1;33m)\u001b[0m\u001b[1;33m.\u001b[0m\u001b[0minf\u001b[0m\u001b[1;33m\u001b[0m\u001b[1;33m\u001b[0m\u001b[0m\n\u001b[0m\u001b[0;32m    846\u001b[0m     \u001b[1;32melse\u001b[0m\u001b[1;33m:\u001b[0m\u001b[1;33m\u001b[0m\u001b[1;33m\u001b[0m\u001b[0m\n\u001b[0;32m    847\u001b[0m         \u001b[1;32mraise\u001b[0m \u001b[0mValueError\u001b[0m\u001b[1;33m(\u001b[0m\u001b[1;34m\"%s is not a valid symbol.\"\u001b[0m \u001b[1;33m%\u001b[0m \u001b[0msymbol\u001b[0m\u001b[1;33m)\u001b[0m\u001b[1;33m\u001b[0m\u001b[1;33m\u001b[0m\u001b[0m\n",
      "\u001b[1;32mJ:\\Python\\Python38\\lib\\site-packages\\sympy\\calculus\\util.py\u001b[0m in \u001b[0;36mfunction_range\u001b[1;34m(f, symbol, domain)\u001b[0m\n\u001b[0;32m    195\u001b[0m \u001b[1;33m\u001b[0m\u001b[0m\n\u001b[0;32m    196\u001b[0m             \u001b[1;32mif\u001b[0m \u001b[1;32mnot\u001b[0m \u001b[0miterable\u001b[0m\u001b[1;33m(\u001b[0m\u001b[0msolution\u001b[0m\u001b[1;33m)\u001b[0m\u001b[1;33m:\u001b[0m\u001b[1;33m\u001b[0m\u001b[1;33m\u001b[0m\u001b[0m\n\u001b[1;32m--> 197\u001b[1;33m                 raise NotImplementedError(\n\u001b[0m\u001b[0;32m    198\u001b[0m                         'Unable to find critical points for {}'.format(f))\n\u001b[0;32m    199\u001b[0m             \u001b[1;32mif\u001b[0m \u001b[0misinstance\u001b[0m\u001b[1;33m(\u001b[0m\u001b[0msolution\u001b[0m\u001b[1;33m,\u001b[0m \u001b[0mImageSet\u001b[0m\u001b[1;33m)\u001b[0m\u001b[1;33m:\u001b[0m\u001b[1;33m\u001b[0m\u001b[1;33m\u001b[0m\u001b[0m\n",
      "\u001b[1;31mNotImplementedError\u001b[0m: Unable to find critical points for (log(2)/log(p))**(1/p) + (log(3)/log(p))**(1/p) + (log(4)/log(p))**(1/p) + (log(5)/log(p))**(1/p)"
     ]
    }
   ],
   "source": [
    "minimum(fun(5), Symbol('p', real = True, positive = True))"
   ]
  },
  {
   "cell_type": "code",
   "execution_count": null,
   "metadata": {},
   "outputs": [],
   "source": []
  }
 ]
}