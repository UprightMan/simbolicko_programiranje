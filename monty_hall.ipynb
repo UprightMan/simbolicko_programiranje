{
 "metadata": {
  "language_info": {
   "codemirror_mode": {
    "name": "ipython",
    "version": 3
   },
   "file_extension": ".py",
   "mimetype": "text/x-python",
   "name": "python",
   "nbconvert_exporter": "python",
   "pygments_lexer": "ipython3",
   "version": "3.8.6-final"
  },
  "orig_nbformat": 2,
  "kernelspec": {
   "name": "python386jvsc74a57bd0e09769776f9f521120ec72634855ca3274247962fb9dade00b6a50017259ae8c",
   "display_name": "Python 3.8.6 64-bit"
  },
  "metadata": {
   "interpreter": {
    "hash": "e09769776f9f521120ec72634855ca3274247962fb9dade00b6a50017259ae8c"
   }
  }
 },
 "nbformat": 4,
 "nbformat_minor": 2,
 "cells": [
  {
   "cell_type": "code",
   "execution_count": 38,
   "metadata": {},
   "outputs": [],
   "source": [
    "import random"
   ]
  },
  {
   "cell_type": "code",
   "execution_count": 136,
   "metadata": {},
   "outputs": [],
   "source": [
    "def monty_hall_sym(n):\n",
    "    winning_states_with_switch = 0\n",
    "    winning_states_without_switch = 0\n",
    "    for i in range(n):\n",
    "        doors = [0, 0, 0]\n",
    "        prize_door = random.randint(0, 2)\n",
    "        doors[prize_door] = 1 #program odabire pobjednicka vrata\n",
    "        chosen_door = [0, 0, 0]\n",
    "        picked_door = random.randint(0, 2)\n",
    "        chosen_door[picked_door] = 1 #natjecatelj bira vrata\n",
    "        open_door =random.randint(0, 2)\n",
    "        while open_door == prize_door or open_door == picked_door:\n",
    "            open_door = random.randint(0, 2)\n",
    "        chosen_door[open_door] = -1\n",
    "        doors[open_door] = -1\n",
    "        switch_door = random.randint(0, 1)\n",
    "        if switch_door == 1:\n",
    "            picked_door = chosen_door.index(0)\n",
    "            if picked_door == prize_door:\n",
    "                winning_states_with_switch += 1\n",
    "        else:\n",
    "            if picked_door == prize_door:\n",
    "                winning_states_without_switch += 1\n",
    "        #print(picked_door, prize_door)\n",
    "    return winning_states_with_switch/(n/2), winning_states_without_switch/(n/2), (winning_states_with_switch + winning_states_without_switch)/n"
   ]
  },
  {
   "cell_type": "code",
   "execution_count": 137,
   "metadata": {},
   "outputs": [
    {
     "output_type": "execute_result",
     "data": {
      "text/plain": [
       "(0.67204, 0.33276, 0.5024)"
      ]
     },
     "metadata": {},
     "execution_count": 137
    }
   ],
   "source": [
    "monty_hall_sym(100000)"
   ]
  },
  {
   "cell_type": "code",
   "execution_count": null,
   "metadata": {},
   "outputs": [],
   "source": []
  }
 ]
}